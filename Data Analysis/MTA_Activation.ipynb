{
  "nbformat": 4,
  "nbformat_minor": 0,
  "metadata": {
    "colab": {
      "name": "MTA_Activation.ipynb",
      "provenance": [],
      "collapsed_sections": []
    },
    "kernelspec": {
      "name": "python3",
      "display_name": "Python 3"
    }
  },
  "cells": [
    {
      "cell_type": "code",
      "metadata": {
        "id": "OR2ogLiO36oT",
        "colab_type": "code",
        "colab": {
          "base_uri": "https://localhost:8080/",
          "height": 34
        },
        "outputId": "29b593db-808a-4019-9fd0-af319add7a82"
      },
      "source": [
        "from google.colab import drive\n",
        "drive.mount('/content/drive')"
      ],
      "execution_count": 183,
      "outputs": [
        {
          "output_type": "stream",
          "text": [
            "Drive already mounted at /content/drive; to attempt to forcibly remount, call drive.mount(\"/content/drive\", force_remount=True).\n"
          ],
          "name": "stdout"
        }
      ]
    },
    {
      "cell_type": "code",
      "metadata": {
        "id": "5EeJMHZ65Q6k",
        "colab_type": "code",
        "colab": {
          "base_uri": "https://localhost:8080/",
          "height": 34
        },
        "outputId": "9dd82e02-0bec-4c3d-b464-af17ec32d3e5"
      },
      "source": [
        "cd '/content/drive/My Drive/MTA_HACK/'"
      ],
      "execution_count": 184,
      "outputs": [
        {
          "output_type": "stream",
          "text": [
            "/content/drive/My Drive/MTA_HACK\n"
          ],
          "name": "stdout"
        }
      ]
    },
    {
      "cell_type": "code",
      "metadata": {
        "id": "dZPXVfy2j3Aa",
        "colab_type": "code",
        "colab": {}
      },
      "source": [
        "import pandas as pd\n",
        "import time\n",
        "from datetime import datetime\n"
      ],
      "execution_count": 185,
      "outputs": []
    },
    {
      "cell_type": "markdown",
      "metadata": {
        "id": "hXHW4rLqg-L2",
        "colab_type": "text"
      },
      "source": [
        "**Reading Data**"
      ]
    },
    {
      "cell_type": "code",
      "metadata": {
        "id": "m04yf2UG6jtU",
        "colab_type": "code",
        "colab": {
          "base_uri": "https://localhost:8080/",
          "height": 353
        },
        "outputId": "774eff54-036c-40f1-b81e-5bcd172b44ee"
      },
      "source": [
        "df = pd.DataFrame()\n",
        "column_names = [\"ticketId\",\"activationTimestamp\", \"productName\",\"origin\", \"originName\",\"destination\", \"destinationName\"]\n",
        "for i in range(20):\n",
        "  df = df.append(pd.read_csv (r'/content/drive/My Drive/MTA_HACK/Activations/Activations_1_csv/masabi_etix_mnractivations_1_part_'+str(i)+'_20200702.csv', usecols= column_names))\n",
        "  print(df.shape)"
      ],
      "execution_count": 186,
      "outputs": [
        {
          "output_type": "stream",
          "text": [
            "(333088, 7)\n",
            "(666359, 7)\n",
            "(999453, 7)\n",
            "(1332841, 7)\n",
            "(1665872, 7)\n",
            "(1999195, 7)\n",
            "(2332361, 7)\n",
            "(2665651, 7)\n",
            "(2998880, 7)\n",
            "(3332217, 7)\n",
            "(3665362, 7)\n",
            "(3998704, 7)\n",
            "(4331726, 7)\n",
            "(4665036, 7)\n",
            "(4998178, 7)\n",
            "(5331525, 7)\n",
            "(5664672, 7)\n",
            "(5998009, 7)\n",
            "(6331268, 7)\n",
            "(6665357, 7)\n"
          ],
          "name": "stdout"
        }
      ]
    },
    {
      "cell_type": "code",
      "metadata": {
        "id": "LLhFSrGOF86A",
        "colab_type": "code",
        "colab": {
          "base_uri": "https://localhost:8080/",
          "height": 34
        },
        "outputId": "865f8cb4-b42a-4dd0-c48a-7c34abc0bfd5"
      },
      "source": [
        "df.shape"
      ],
      "execution_count": 187,
      "outputs": [
        {
          "output_type": "execute_result",
          "data": {
            "text/plain": [
              "(6665357, 7)"
            ]
          },
          "metadata": {
            "tags": []
          },
          "execution_count": 187
        }
      ]
    },
    {
      "cell_type": "markdown",
      "metadata": {
        "id": "8hYS76bphDms",
        "colab_type": "text"
      },
      "source": [
        "**Data Preprocessing**"
      ]
    },
    {
      "cell_type": "code",
      "metadata": {
        "id": "cUED-F4TcQ-J",
        "colab_type": "code",
        "colab": {}
      },
      "source": [
        "df = df.dropna()"
      ],
      "execution_count": 188,
      "outputs": []
    },
    {
      "cell_type": "code",
      "metadata": {
        "id": "1mdRqR0BuBAE",
        "colab_type": "code",
        "colab": {}
      },
      "source": [
        "# df = df[df['activationTimestamp'].notna()]\n",
        "df = df.sort_values(by=[\"activationTimestamp\"])"
      ],
      "execution_count": 189,
      "outputs": []
    },
    {
      "cell_type": "code",
      "metadata": {
        "id": "9FYjzdpA1LBi",
        "colab_type": "code",
        "colab": {
          "base_uri": "https://localhost:8080/",
          "height": 195
        },
        "outputId": "3b13655b-9ea7-40fb-e9ee-ad87f09b3420"
      },
      "source": [
        "df.head()"
      ],
      "execution_count": 190,
      "outputs": [
        {
          "output_type": "execute_result",
          "data": {
            "text/html": [
              "<div>\n",
              "<style scoped>\n",
              "    .dataframe tbody tr th:only-of-type {\n",
              "        vertical-align: middle;\n",
              "    }\n",
              "\n",
              "    .dataframe tbody tr th {\n",
              "        vertical-align: top;\n",
              "    }\n",
              "\n",
              "    .dataframe thead th {\n",
              "        text-align: right;\n",
              "    }\n",
              "</style>\n",
              "<table border=\"1\" class=\"dataframe\">\n",
              "  <thead>\n",
              "    <tr style=\"text-align: right;\">\n",
              "      <th></th>\n",
              "      <th>ticketId</th>\n",
              "      <th>activationTimestamp</th>\n",
              "      <th>productName</th>\n",
              "      <th>origin</th>\n",
              "      <th>originName</th>\n",
              "      <th>destination</th>\n",
              "      <th>destinationName</th>\n",
              "    </tr>\n",
              "  </thead>\n",
              "  <tbody>\n",
              "    <tr>\n",
              "      <th>206911</th>\n",
              "      <td>WTTDN2ZQ7Q2</td>\n",
              "      <td>1.493831e+12</td>\n",
              "      <td>Off-Peak</td>\n",
              "      <td>252.0</td>\n",
              "      <td>New Haven</td>\n",
              "      <td>1.0</td>\n",
              "      <td>Grand Central Terminal</td>\n",
              "    </tr>\n",
              "    <tr>\n",
              "      <th>236743</th>\n",
              "      <td>WTTCTF5ZXQ4</td>\n",
              "      <td>1.497033e+12</td>\n",
              "      <td>Off-Peak</td>\n",
              "      <td>163.0</td>\n",
              "      <td>Southeast</td>\n",
              "      <td>1.0</td>\n",
              "      <td>Grand Central Terminal</td>\n",
              "    </tr>\n",
              "    <tr>\n",
              "      <th>120521</th>\n",
              "      <td>WTTBUW72PQJ</td>\n",
              "      <td>1.498493e+12</td>\n",
              "      <td>Off-Peak</td>\n",
              "      <td>250.0</td>\n",
              "      <td>Milford</td>\n",
              "      <td>1.0</td>\n",
              "      <td>Grand Central Terminal</td>\n",
              "    </tr>\n",
              "    <tr>\n",
              "      <th>128595</th>\n",
              "      <td>WTTB57T7PQS</td>\n",
              "      <td>1.499359e+12</td>\n",
              "      <td>Off-Peak</td>\n",
              "      <td>1.0</td>\n",
              "      <td>Grand Central Terminal</td>\n",
              "      <td>244.0</td>\n",
              "      <td>Fairfield</td>\n",
              "    </tr>\n",
              "    <tr>\n",
              "      <th>128596</th>\n",
              "      <td>WTTB6PT7PQL</td>\n",
              "      <td>1.499359e+12</td>\n",
              "      <td>Off-Peak</td>\n",
              "      <td>1.0</td>\n",
              "      <td>Grand Central Terminal</td>\n",
              "      <td>244.0</td>\n",
              "      <td>Fairfield</td>\n",
              "    </tr>\n",
              "  </tbody>\n",
              "</table>\n",
              "</div>"
            ],
            "text/plain": [
              "           ticketId  activationTimestamp  ... destination         destinationName\n",
              "206911  WTTDN2ZQ7Q2         1.493831e+12  ...         1.0  Grand Central Terminal\n",
              "236743  WTTCTF5ZXQ4         1.497033e+12  ...         1.0  Grand Central Terminal\n",
              "120521  WTTBUW72PQJ         1.498493e+12  ...         1.0  Grand Central Terminal\n",
              "128595  WTTB57T7PQS         1.499359e+12  ...       244.0               Fairfield\n",
              "128596  WTTB6PT7PQL         1.499359e+12  ...       244.0               Fairfield\n",
              "\n",
              "[5 rows x 7 columns]"
            ]
          },
          "metadata": {
            "tags": []
          },
          "execution_count": 190
        }
      ]
    },
    {
      "cell_type": "code",
      "metadata": {
        "id": "iHiltKSaPqXA",
        "colab_type": "code",
        "colab": {}
      },
      "source": [
        "def to_date_function(df,col_names):\n",
        "  for col in col_names:\n",
        "    dt_object = []\n",
        "    for timestamp in df[col]:\n",
        "      your_dt = datetime.fromtimestamp(int(timestamp)/1000)  # using the local timezone\n",
        "      dt_object.append(your_dt.strftime(\"%Y-%m-%d %H:%M:%S\")) \n",
        "    df[col] = dt_object\n",
        "  return df"
      ],
      "execution_count": 191,
      "outputs": []
    },
    {
      "cell_type": "code",
      "metadata": {
        "id": "Sb11ndGkvECH",
        "colab_type": "code",
        "colab": {}
      },
      "source": [
        "col_names = [\"activationTimestamp\"]\n",
        "df = to_date_function(df, col_names)"
      ],
      "execution_count": 192,
      "outputs": []
    },
    {
      "cell_type": "code",
      "metadata": {
        "id": "79Af7PSIu8Bs",
        "colab_type": "code",
        "colab": {}
      },
      "source": [
        "df[\"date\"] = [x.split(\" \")[0] for x in df[\"activationTimestamp\"]]"
      ],
      "execution_count": 197,
      "outputs": []
    },
    {
      "cell_type": "code",
      "metadata": {
        "id": "b-_0XnFc1aeW",
        "colab_type": "code",
        "colab": {
          "base_uri": "https://localhost:8080/",
          "height": 195
        },
        "outputId": "58ca0ca4-8158-4d46-aac8-3c7eed9a5a4f"
      },
      "source": [
        "df.head()"
      ],
      "execution_count": 198,
      "outputs": [
        {
          "output_type": "execute_result",
          "data": {
            "text/html": [
              "<div>\n",
              "<style scoped>\n",
              "    .dataframe tbody tr th:only-of-type {\n",
              "        vertical-align: middle;\n",
              "    }\n",
              "\n",
              "    .dataframe tbody tr th {\n",
              "        vertical-align: top;\n",
              "    }\n",
              "\n",
              "    .dataframe thead th {\n",
              "        text-align: right;\n",
              "    }\n",
              "</style>\n",
              "<table border=\"1\" class=\"dataframe\">\n",
              "  <thead>\n",
              "    <tr style=\"text-align: right;\">\n",
              "      <th></th>\n",
              "      <th>ticketId</th>\n",
              "      <th>activationTimestamp</th>\n",
              "      <th>productName</th>\n",
              "      <th>origin</th>\n",
              "      <th>originName</th>\n",
              "      <th>destination</th>\n",
              "      <th>destinationName</th>\n",
              "      <th>date</th>\n",
              "    </tr>\n",
              "  </thead>\n",
              "  <tbody>\n",
              "    <tr>\n",
              "      <th>206911</th>\n",
              "      <td>WTTDN2ZQ7Q2</td>\n",
              "      <td>2017-05-03 17:10:07</td>\n",
              "      <td>Off-Peak</td>\n",
              "      <td>252.0</td>\n",
              "      <td>New Haven</td>\n",
              "      <td>1.0</td>\n",
              "      <td>Grand Central Terminal</td>\n",
              "      <td>2017-05-03</td>\n",
              "    </tr>\n",
              "    <tr>\n",
              "      <th>236743</th>\n",
              "      <td>WTTCTF5ZXQ4</td>\n",
              "      <td>2017-06-09 18:31:05</td>\n",
              "      <td>Off-Peak</td>\n",
              "      <td>163.0</td>\n",
              "      <td>Southeast</td>\n",
              "      <td>1.0</td>\n",
              "      <td>Grand Central Terminal</td>\n",
              "      <td>2017-06-09</td>\n",
              "    </tr>\n",
              "    <tr>\n",
              "      <th>120521</th>\n",
              "      <td>WTTBUW72PQJ</td>\n",
              "      <td>2017-06-26 16:09:13</td>\n",
              "      <td>Off-Peak</td>\n",
              "      <td>250.0</td>\n",
              "      <td>Milford</td>\n",
              "      <td>1.0</td>\n",
              "      <td>Grand Central Terminal</td>\n",
              "      <td>2017-06-26</td>\n",
              "    </tr>\n",
              "    <tr>\n",
              "      <th>128595</th>\n",
              "      <td>WTTB57T7PQS</td>\n",
              "      <td>2017-07-06 16:39:41</td>\n",
              "      <td>Off-Peak</td>\n",
              "      <td>1.0</td>\n",
              "      <td>Grand Central Terminal</td>\n",
              "      <td>244.0</td>\n",
              "      <td>Fairfield</td>\n",
              "      <td>2017-07-06</td>\n",
              "    </tr>\n",
              "    <tr>\n",
              "      <th>128596</th>\n",
              "      <td>WTTB6PT7PQL</td>\n",
              "      <td>2017-07-06 16:39:47</td>\n",
              "      <td>Off-Peak</td>\n",
              "      <td>1.0</td>\n",
              "      <td>Grand Central Terminal</td>\n",
              "      <td>244.0</td>\n",
              "      <td>Fairfield</td>\n",
              "      <td>2017-07-06</td>\n",
              "    </tr>\n",
              "  </tbody>\n",
              "</table>\n",
              "</div>"
            ],
            "text/plain": [
              "           ticketId  activationTimestamp  ...         destinationName        date\n",
              "206911  WTTDN2ZQ7Q2  2017-05-03 17:10:07  ...  Grand Central Terminal  2017-05-03\n",
              "236743  WTTCTF5ZXQ4  2017-06-09 18:31:05  ...  Grand Central Terminal  2017-06-09\n",
              "120521  WTTBUW72PQJ  2017-06-26 16:09:13  ...  Grand Central Terminal  2017-06-26\n",
              "128595  WTTB57T7PQS  2017-07-06 16:39:41  ...               Fairfield  2017-07-06\n",
              "128596  WTTB6PT7PQL  2017-07-06 16:39:47  ...               Fairfield  2017-07-06\n",
              "\n",
              "[5 rows x 8 columns]"
            ]
          },
          "metadata": {
            "tags": []
          },
          "execution_count": 198
        }
      ]
    },
    {
      "cell_type": "code",
      "metadata": {
        "id": "eiaQPpDM6_Qy",
        "colab_type": "code",
        "colab": {}
      },
      "source": [
        "dataset_covid = df[df[\"date\"] >= \"2020-01-01\"]"
      ],
      "execution_count": 199,
      "outputs": []
    },
    {
      "cell_type": "code",
      "metadata": {
        "id": "t4-C_sWY8hPT",
        "colab_type": "code",
        "colab": {
          "base_uri": "https://localhost:8080/",
          "height": 118
        },
        "outputId": "a12fcd2f-59fe-434d-b24b-e7c9a0b9d781"
      },
      "source": [
        "dataset_covid.head()\n",
        "dataset_covid[\"origin\"] = list(dataset_covid[\"origin\"].values)"
      ],
      "execution_count": 200,
      "outputs": [
        {
          "output_type": "stream",
          "text": [
            "/usr/local/lib/python3.6/dist-packages/ipykernel_launcher.py:2: SettingWithCopyWarning: \n",
            "A value is trying to be set on a copy of a slice from a DataFrame.\n",
            "Try using .loc[row_indexer,col_indexer] = value instead\n",
            "\n",
            "See the caveats in the documentation: https://pandas.pydata.org/pandas-docs/stable/user_guide/indexing.html#returning-a-view-versus-a-copy\n",
            "  \n"
          ],
          "name": "stderr"
        }
      ]
    },
    {
      "cell_type": "code",
      "metadata": {
        "id": "nJFVvcvR7ttk",
        "colab_type": "code",
        "colab": {}
      },
      "source": [
        "dataset_covid = dataset_covid[dataset_covid[\"origin\"] == 1.0]"
      ],
      "execution_count": 201,
      "outputs": []
    },
    {
      "cell_type": "code",
      "metadata": {
        "id": "wR2tMp4qFCMG",
        "colab_type": "code",
        "colab": {
          "base_uri": "https://localhost:8080/",
          "height": 195
        },
        "outputId": "acb5e1e4-2960-4f51-c7c1-9c8441b11599"
      },
      "source": [
        "dataset_covid.head()"
      ],
      "execution_count": 202,
      "outputs": [
        {
          "output_type": "execute_result",
          "data": {
            "text/html": [
              "<div>\n",
              "<style scoped>\n",
              "    .dataframe tbody tr th:only-of-type {\n",
              "        vertical-align: middle;\n",
              "    }\n",
              "\n",
              "    .dataframe tbody tr th {\n",
              "        vertical-align: top;\n",
              "    }\n",
              "\n",
              "    .dataframe thead th {\n",
              "        text-align: right;\n",
              "    }\n",
              "</style>\n",
              "<table border=\"1\" class=\"dataframe\">\n",
              "  <thead>\n",
              "    <tr style=\"text-align: right;\">\n",
              "      <th></th>\n",
              "      <th>ticketId</th>\n",
              "      <th>activationTimestamp</th>\n",
              "      <th>productName</th>\n",
              "      <th>origin</th>\n",
              "      <th>originName</th>\n",
              "      <th>destination</th>\n",
              "      <th>destinationName</th>\n",
              "      <th>date</th>\n",
              "    </tr>\n",
              "  </thead>\n",
              "  <tbody>\n",
              "    <tr>\n",
              "      <th>7355</th>\n",
              "      <td>WTTC3JIVPVH</td>\n",
              "      <td>2020-01-01 00:00:58</td>\n",
              "      <td>Monthly</td>\n",
              "      <td>1.0</td>\n",
              "      <td>Grand Central Terminal</td>\n",
              "      <td>132.0</td>\n",
              "      <td>White Plains</td>\n",
              "      <td>2020-01-01</td>\n",
              "    </tr>\n",
              "    <tr>\n",
              "      <th>251490</th>\n",
              "      <td>WTTA3MY27VP</td>\n",
              "      <td>2020-01-01 00:00:58</td>\n",
              "      <td>Peak / Off Peak</td>\n",
              "      <td>1.0</td>\n",
              "      <td>Grand Central Terminal</td>\n",
              "      <td>154.0</td>\n",
              "      <td>Katonah</td>\n",
              "      <td>2020-01-01</td>\n",
              "    </tr>\n",
              "    <tr>\n",
              "      <th>15573</th>\n",
              "      <td>WTTBHQ26PVM</td>\n",
              "      <td>2020-01-01 00:01:30</td>\n",
              "      <td>Off-Peak</td>\n",
              "      <td>1.0</td>\n",
              "      <td>Grand Central Terminal</td>\n",
              "      <td>16.0</td>\n",
              "      <td>Yonkers</td>\n",
              "      <td>2020-01-01</td>\n",
              "    </tr>\n",
              "    <tr>\n",
              "      <th>27082</th>\n",
              "      <td>WTTBPMU7HVB</td>\n",
              "      <td>2020-01-01 00:01:42</td>\n",
              "      <td>Peak / Off Peak</td>\n",
              "      <td>1.0</td>\n",
              "      <td>Grand Central Terminal</td>\n",
              "      <td>250.0</td>\n",
              "      <td>Milford</td>\n",
              "      <td>2020-01-01</td>\n",
              "    </tr>\n",
              "    <tr>\n",
              "      <th>14693</th>\n",
              "      <td>WTTCHNK5HV5</td>\n",
              "      <td>2020-01-01 00:01:59</td>\n",
              "      <td>Off-Peak</td>\n",
              "      <td>1.0</td>\n",
              "      <td>Grand Central Terminal</td>\n",
              "      <td>218.0</td>\n",
              "      <td>Greenwich</td>\n",
              "      <td>2020-01-01</td>\n",
              "    </tr>\n",
              "  </tbody>\n",
              "</table>\n",
              "</div>"
            ],
            "text/plain": [
              "           ticketId  activationTimestamp  ... destinationName        date\n",
              "7355    WTTC3JIVPVH  2020-01-01 00:00:58  ...    White Plains  2020-01-01\n",
              "251490  WTTA3MY27VP  2020-01-01 00:00:58  ...         Katonah  2020-01-01\n",
              "15573   WTTBHQ26PVM  2020-01-01 00:01:30  ...         Yonkers  2020-01-01\n",
              "27082   WTTBPMU7HVB  2020-01-01 00:01:42  ...         Milford  2020-01-01\n",
              "14693   WTTCHNK5HV5  2020-01-01 00:01:59  ...       Greenwich  2020-01-01\n",
              "\n",
              "[5 rows x 8 columns]"
            ]
          },
          "metadata": {
            "tags": []
          },
          "execution_count": 202
        }
      ]
    },
    {
      "cell_type": "code",
      "metadata": {
        "id": "cpaTstvYEb4g",
        "colab_type": "code",
        "colab": {}
      },
      "source": [
        "dataset_covid = dataset_covid.groupby(by = \"date\").count()[\"ticketId\"]"
      ],
      "execution_count": 203,
      "outputs": []
    },
    {
      "cell_type": "code",
      "metadata": {
        "id": "7bM-9FuJGE91",
        "colab_type": "code",
        "colab": {
          "base_uri": "https://localhost:8080/",
          "height": 282
        },
        "outputId": "5ad13375-57d0-4e15-f018-cf59648bcd5e"
      },
      "source": [
        "import matplotlib.pyplot as plt\n",
        "\n",
        "plt.plot(dataset_covid.values)"
      ],
      "execution_count": 204,
      "outputs": [
        {
          "output_type": "execute_result",
          "data": {
            "text/plain": [
              "[<matplotlib.lines.Line2D at 0x7f0b6bc73cc0>]"
            ]
          },
          "metadata": {
            "tags": []
          },
          "execution_count": 204
        },
        {
          "output_type": "display_data",
          "data": {
            "image/png": "[encoded data removed]",
            "text/plain": [
              "<Figure size 432x288 with 1 Axes>"
            ]
          },
          "metadata": {
            "tags": [],
            "needs_background": "light"
          }
        }
      ]
    },
    {
      "cell_type": "code",
      "metadata": {
        "id": "WGiyE9IZ4iaX",
        "colab_type": "code",
        "colab": {
          "base_uri": "https://localhost:8080/",
          "height": 431
        },
        "outputId": "32d12d7c-e1ba-4022-856d-96ac5c3eefb6"
      },
      "source": [
        "df.groupby(by = [\"originName\"]).count().sort_values(by = \"ticketId\")"
      ],
      "execution_count": 205,
      "outputs": [
        {
          "output_type": "execute_result",
          "data": {
            "text/html": [
              "<div>\n",
              "<style scoped>\n",
              "    .dataframe tbody tr th:only-of-type {\n",
              "        vertical-align: middle;\n",
              "    }\n",
              "\n",
              "    .dataframe tbody tr th {\n",
              "        vertical-align: top;\n",
              "    }\n",
              "\n",
              "    .dataframe thead th {\n",
              "        text-align: right;\n",
              "    }\n",
              "</style>\n",
              "<table border=\"1\" class=\"dataframe\">\n",
              "  <thead>\n",
              "    <tr style=\"text-align: right;\">\n",
              "      <th></th>\n",
              "      <th>ticketId</th>\n",
              "      <th>activationTimestamp</th>\n",
              "      <th>productName</th>\n",
              "      <th>origin</th>\n",
              "      <th>destination</th>\n",
              "      <th>destinationName</th>\n",
              "      <th>date</th>\n",
              "    </tr>\n",
              "    <tr>\n",
              "      <th>originName</th>\n",
              "      <th></th>\n",
              "      <th></th>\n",
              "      <th></th>\n",
              "      <th></th>\n",
              "      <th></th>\n",
              "      <th></th>\n",
              "      <th></th>\n",
              "    </tr>\n",
              "  </thead>\n",
              "  <tbody>\n",
              "    <tr>\n",
              "      <th>Breakneck Ridge</th>\n",
              "      <td>1</td>\n",
              "      <td>1</td>\n",
              "      <td>1</td>\n",
              "      <td>1</td>\n",
              "      <td>1</td>\n",
              "      <td>1</td>\n",
              "      <td>1</td>\n",
              "    </tr>\n",
              "    <tr>\n",
              "      <th>Appalachian Trail</th>\n",
              "      <td>7</td>\n",
              "      <td>7</td>\n",
              "      <td>7</td>\n",
              "      <td>7</td>\n",
              "      <td>7</td>\n",
              "      <td>7</td>\n",
              "      <td>7</td>\n",
              "    </tr>\n",
              "    <tr>\n",
              "      <th>Mount Pleasant</th>\n",
              "      <td>23</td>\n",
              "      <td>23</td>\n",
              "      <td>23</td>\n",
              "      <td>23</td>\n",
              "      <td>23</td>\n",
              "      <td>23</td>\n",
              "      <td>23</td>\n",
              "    </tr>\n",
              "    <tr>\n",
              "      <th>Manitou</th>\n",
              "      <td>101</td>\n",
              "      <td>101</td>\n",
              "      <td>101</td>\n",
              "      <td>101</td>\n",
              "      <td>101</td>\n",
              "      <td>101</td>\n",
              "      <td>101</td>\n",
              "    </tr>\n",
              "    <tr>\n",
              "      <th>Beacon-Falls</th>\n",
              "      <td>455</td>\n",
              "      <td>455</td>\n",
              "      <td>455</td>\n",
              "      <td>455</td>\n",
              "      <td>455</td>\n",
              "      <td>455</td>\n",
              "      <td>455</td>\n",
              "    </tr>\n",
              "    <tr>\n",
              "      <th>...</th>\n",
              "      <td>...</td>\n",
              "      <td>...</td>\n",
              "      <td>...</td>\n",
              "      <td>...</td>\n",
              "      <td>...</td>\n",
              "      <td>...</td>\n",
              "      <td>...</td>\n",
              "    </tr>\n",
              "    <tr>\n",
              "      <th>Fordham</th>\n",
              "      <td>133041</td>\n",
              "      <td>133041</td>\n",
              "      <td>133041</td>\n",
              "      <td>133041</td>\n",
              "      <td>133041</td>\n",
              "      <td>133041</td>\n",
              "      <td>133041</td>\n",
              "    </tr>\n",
              "    <tr>\n",
              "      <th>Harlem - 125th Street</th>\n",
              "      <td>147226</td>\n",
              "      <td>147226</td>\n",
              "      <td>147226</td>\n",
              "      <td>147226</td>\n",
              "      <td>147226</td>\n",
              "      <td>147226</td>\n",
              "      <td>147226</td>\n",
              "    </tr>\n",
              "    <tr>\n",
              "      <th>White Plains</th>\n",
              "      <td>173384</td>\n",
              "      <td>173384</td>\n",
              "      <td>173384</td>\n",
              "      <td>173384</td>\n",
              "      <td>173384</td>\n",
              "      <td>173384</td>\n",
              "      <td>173384</td>\n",
              "    </tr>\n",
              "    <tr>\n",
              "      <th>Stamford</th>\n",
              "      <td>228990</td>\n",
              "      <td>228990</td>\n",
              "      <td>228990</td>\n",
              "      <td>228990</td>\n",
              "      <td>228990</td>\n",
              "      <td>228990</td>\n",
              "      <td>228990</td>\n",
              "    </tr>\n",
              "    <tr>\n",
              "      <th>Grand Central Terminal</th>\n",
              "      <td>3092738</td>\n",
              "      <td>3092738</td>\n",
              "      <td>3092738</td>\n",
              "      <td>3092738</td>\n",
              "      <td>3092738</td>\n",
              "      <td>3092738</td>\n",
              "      <td>3092738</td>\n",
              "    </tr>\n",
              "  </tbody>\n",
              "</table>\n",
              "<p>112 rows × 7 columns</p>\n",
              "</div>"
            ],
            "text/plain": [
              "                        ticketId  activationTimestamp  ...  destinationName     date\n",
              "originName                                             ...                          \n",
              "Breakneck Ridge                1                    1  ...                1        1\n",
              "Appalachian Trail              7                    7  ...                7        7\n",
              "Mount Pleasant                23                   23  ...               23       23\n",
              "Manitou                      101                  101  ...              101      101\n",
              "Beacon-Falls                 455                  455  ...              455      455\n",
              "...                          ...                  ...  ...              ...      ...\n",
              "Fordham                   133041               133041  ...           133041   133041\n",
              "Harlem - 125th Street     147226               147226  ...           147226   147226\n",
              "White Plains              173384               173384  ...           173384   173384\n",
              "Stamford                  228990               228990  ...           228990   228990\n",
              "Grand Central Terminal   3092738              3092738  ...          3092738  3092738\n",
              "\n",
              "[112 rows x 7 columns]"
            ]
          },
          "metadata": {
            "tags": []
          },
          "execution_count": 205
        }
      ]
    },
    {
      "cell_type": "code",
      "metadata": {
        "id": "bZAbgLkKXgxq",
        "colab_type": "code",
        "colab": {}
      },
      "source": [
        "new_source = df.groupby([\"date\",\"origin\",\"productName\"]).count()[\"ticketId\"]\n",
        "new_dest = df.groupby([\"date\",\"destination\",\"productName\"]).count()[\"ticketId\"]"
      ],
      "execution_count": 206,
      "outputs": []
    },
    {
      "cell_type": "code",
      "metadata": {
        "id": "QISpzN8qYdZT",
        "colab_type": "code",
        "colab": {}
      },
      "source": [
        "new_dest = new_dest.reset_index()\n",
        "new_dest = new_dest.rename(columns={\"destination\":\"station\",\"ticketId\": \"Number_of_passengers\"})\n",
        "new_source = new_source.reset_index()\n",
        "new_source= new_source.rename(columns={\"origin\":\"station\",\"ticketId\": \"Number_of_passengers\"})"
      ],
      "execution_count": 207,
      "outputs": []
    },
    {
      "cell_type": "code",
      "metadata": {
        "id": "IQ6_eqTEZaVy",
        "colab_type": "code",
        "colab": {}
      },
      "source": [
        "new_df_pn = new_source.append(new_dest, ignore_index= True)\n",
        "new_df_pn = new_df_pn.sort_values(by= [\"date\"], ignore_index= True)"
      ],
      "execution_count": 208,
      "outputs": []
    },
    {
      "cell_type": "code",
      "metadata": {
        "id": "NpBMZXR-Zsyy",
        "colab_type": "code",
        "colab": {}
      },
      "source": [
        "new_df_pn = new_df_pn.groupby([\"date\",\"station\",\"productName\"]).sum()[\"Number_of_passengers\"]"
      ],
      "execution_count": 209,
      "outputs": []
    },
    {
      "cell_type": "code",
      "metadata": {
        "id": "eag6l-VmR6Xi",
        "colab_type": "code",
        "colab": {}
      },
      "source": [
        "dummydf = new_df_pn.reset_index()"
      ],
      "execution_count": 210,
      "outputs": []
    },
    {
      "cell_type": "code",
      "metadata": {
        "id": "uyc-ABgmRgZV",
        "colab_type": "code",
        "colab": {}
      },
      "source": [
        "dummydf = pd.get_dummies(dummydf, columns=[\"productName\"])"
      ],
      "execution_count": 211,
      "outputs": []
    },
    {
      "cell_type": "code",
      "metadata": {
        "id": "5KwMq82gcGxA",
        "colab_type": "code",
        "colab": {}
      },
      "source": [
        "dummydf = pd.get_dummies(dummydf, columns=[\"station\"])"
      ],
      "execution_count": 212,
      "outputs": []
    },
    {
      "cell_type": "code",
      "metadata": {
        "id": "a0TQQualPRsM",
        "colab_type": "code",
        "colab": {}
      },
      "source": [
        "# dummydf.head()\n",
        "import time\n",
        "year = []\n",
        "month = []\n",
        "day = []\n",
        "for date in dummydf[\"date\"]:\n",
        "  date = time.strptime(date, \"%Y-%m-%d\")\n",
        "  year.append(date.tm_year)\n",
        "  month.append(date.tm_mon)\n",
        "  day.append(date.tm_wday)\n",
        "dummydf[\"year\"] = year\n",
        "dummydf[\"month\"] = month\n",
        "dummydf[\"day\"] = day\n"
      ],
      "execution_count": 213,
      "outputs": []
    },
    {
      "cell_type": "markdown",
      "metadata": {
        "id": "OLctLZJkhRHo",
        "colab_type": "text"
      },
      "source": [
        "**Data Modelling and Predictions**"
      ]
    },
    {
      "cell_type": "code",
      "metadata": {
        "id": "oi53B4_uc4eU",
        "colab_type": "code",
        "colab": {}
      },
      "source": [
        "import numpy as np\n",
        "from sklearn.model_selection import train_test_split\n",
        "y = dummydf[\"Number_of_passengers\"]\n",
        "# X_plot = dummydf.drop[\"Number_of_passengers\"]\n",
        "X = dummydf.drop([\"Number_of_passengers\"], axis=1)\n",
        "X_train, X_test, y_train, y_test = train_test_split(X, y, test_size=0.33, random_state=42)\n",
        "X_date = X_test[\"date\"]\n",
        "X_train, X_test = X_train.drop([\"date\"],axis = 1), X_test.drop([\"date\"], axis = 1)\n",
        "score = []\n",
        "MAE = []"
      ],
      "execution_count": 214,
      "outputs": []
    },
    {
      "cell_type": "code",
      "metadata": {
        "id": "VL8n2qbCm-tw",
        "colab_type": "code",
        "colab": {
          "base_uri": "https://localhost:8080/",
          "height": 218
        },
        "outputId": "f1f74d1c-ba6f-4288-94cd-b70039484cef"
      },
      "source": [
        "X_date"
      ],
      "execution_count": 215,
      "outputs": [
        {
          "output_type": "execute_result",
          "data": {
            "text/plain": [
              "3903      2019-09-22\n",
              "10032     2019-12-05\n",
              "133293    2020-04-21\n",
              "5567      2019-10-23\n",
              "76494     2020-02-15\n",
              "             ...    \n",
              "117381    2020-03-21\n",
              "3990      2019-09-24\n",
              "48892     2020-01-24\n",
              "36804     2020-01-15\n",
              "21706     2020-01-03\n",
              "Name: date, Length: 45708, dtype: object"
            ]
          },
          "metadata": {
            "tags": []
          },
          "execution_count": 215
        }
      ]
    },
    {
      "cell_type": "markdown",
      "metadata": {
        "id": "sndIP-v_ea8Y",
        "colab_type": "text"
      },
      "source": [
        "Linear Regression"
      ]
    },
    {
      "cell_type": "code",
      "metadata": {
        "id": "UuM8JqOWeY9K",
        "colab_type": "code",
        "colab": {}
      },
      "source": [
        "import numpy as np\n",
        "from sklearn.linear_model import LinearRegression\n",
        "reg = LinearRegression().fit(X_train, y_train)\n",
        "reg.score(X_train, y_train)\n",
        "y_pred = reg.predict(X_test)"
      ],
      "execution_count": 216,
      "outputs": []
    },
    {
      "cell_type": "code",
      "metadata": {
        "id": "86mNPiyAe7XQ",
        "colab_type": "code",
        "colab": {
          "base_uri": "https://localhost:8080/",
          "height": 50
        },
        "outputId": "e5232dd0-2ac0-4289-c186-17069d1705ee"
      },
      "source": [
        "from sklearn.metrics import mean_absolute_error\n",
        "from sklearn.metrics import r2_score\n",
        "print(mean_absolute_error(y_test, y_pred))\n",
        "MAE.append(mean_absolute_error(y_test, y_pred))\n",
        "print((r2_score(y_test, y_pred)))\n",
        "score.append(r2_score(y_test, y_pred))"
      ],
      "execution_count": 217,
      "outputs": [
        {
          "output_type": "stream",
          "text": [
            "191.40254407051282\n",
            "0.061037613115869305\n"
          ],
          "name": "stdout"
        }
      ]
    },
    {
      "cell_type": "code",
      "metadata": {
        "id": "q05h-zkgf8LQ",
        "colab_type": "code",
        "colab": {}
      },
      "source": [
        "import xgboost as xgb\n",
        "from xgboost import plot_importance, plot_tree\n",
        "from sklearn.ensemble import AdaBoostRegressor, BaggingRegressor, ExtraTreesRegressor"
      ],
      "execution_count": 218,
      "outputs": []
    },
    {
      "cell_type": "markdown",
      "metadata": {
        "id": "e109nLfIiYRA",
        "colab_type": "text"
      },
      "source": [
        "AdaBoostRegressor"
      ]
    },
    {
      "cell_type": "code",
      "metadata": {
        "id": "hoMM_rfmiW4w",
        "colab_type": "code",
        "colab": {
          "base_uri": "https://localhost:8080/",
          "height": 50
        },
        "outputId": "f99348b3-e9eb-4f68-ba92-0c7f4ff19dd2"
      },
      "source": [
        "reg_adb = AdaBoostRegressor().fit(X_train,y_train)\n",
        "y_pred = reg_adb.predict(X_test)\n",
        "print(mean_absolute_error(y_test, y_pred))\n",
        "MAE.append(mean_absolute_error(y_test, y_pred))\n",
        "print((r2_score(y_test, y_pred)))\n",
        "score.append(r2_score(y_test, y_pred))"
      ],
      "execution_count": 219,
      "outputs": [
        {
          "output_type": "stream",
          "text": [
            "136.97678696113542\n",
            "0.41968907188090887\n"
          ],
          "name": "stdout"
        }
      ]
    },
    {
      "cell_type": "markdown",
      "metadata": {
        "id": "IbxKAb3Vf5gx",
        "colab_type": "text"
      },
      "source": [
        "XGBoost Regression"
      ]
    },
    {
      "cell_type": "code",
      "metadata": {
        "id": "HCAecMV4h-dD",
        "colab_type": "code",
        "colab": {
          "base_uri": "https://localhost:8080/",
          "height": 67
        },
        "outputId": "8a0a89df-df0d-4978-d5c7-23be3a49e4d3"
      },
      "source": [
        "reg_xgb = xgb.XGBRegressor(n_estimators=1000).fit(X_train,y_train)\n",
        "y_pred = reg_xgb.predict(X_test)\n",
        "print(mean_absolute_error(y_test, y_pred))\n",
        "MAE.append(mean_absolute_error(y_test, y_pred))\n",
        "print(r2_score(y_test, y_pred))\n",
        "score.append(r2_score(y_test, y_pred))"
      ],
      "execution_count": 220,
      "outputs": [
        {
          "output_type": "stream",
          "text": [
            "[18:53:09] WARNING: /workspace/src/objective/regression_obj.cu:152: reg:linear is now deprecated in favor of reg:squarederror.\n",
            "89.74572927483848\n",
            "0.6504293022290641\n"
          ],
          "name": "stdout"
        }
      ]
    },
    {
      "cell_type": "markdown",
      "metadata": {
        "id": "__QsCxHCjBm-",
        "colab_type": "text"
      },
      "source": [
        "BaggingRegressor"
      ]
    },
    {
      "cell_type": "code",
      "metadata": {
        "id": "3A2JgFQ6jA3o",
        "colab_type": "code",
        "colab": {
          "base_uri": "https://localhost:8080/",
          "height": 50
        },
        "outputId": "40965710-4d00-49fb-bf5d-0103d5488229"
      },
      "source": [
        "reg_bagging = BaggingRegressor().fit(X_train,y_train)\n",
        "y_pred = reg_bagging.predict(X_test)\n",
        "print(mean_absolute_error(y_test, y_pred))\n",
        "MAE.append(mean_absolute_error(y_test, y_pred))\n",
        "print(r2_score(y_test, y_pred))\n",
        "score.append(r2_score(y_test, y_pred))"
      ],
      "execution_count": 221,
      "outputs": [
        {
          "output_type": "stream",
          "text": [
            "35.86188890801666\n",
            "0.6409615006888771\n"
          ],
          "name": "stdout"
        }
      ]
    },
    {
      "cell_type": "markdown",
      "metadata": {
        "id": "WA7pQ9SkjTeI",
        "colab_type": "text"
      },
      "source": [
        "ExtraTreesRegressor"
      ]
    },
    {
      "cell_type": "code",
      "metadata": {
        "id": "ByLq93ESjXfQ",
        "colab_type": "code",
        "colab": {
          "base_uri": "https://localhost:8080/",
          "height": 50
        },
        "outputId": "fb3fce13-8d6c-44c0-a11d-9821e9127b40"
      },
      "source": [
        "reg_extra = ExtraTreesRegressor().fit(X_train,y_train)\n",
        "y_pred = reg_extra.predict(X_test)\n",
        "print(mean_absolute_error(y_test, y_pred))\n",
        "MAE.append(mean_absolute_error(y_test, y_pred))\n",
        "print(r2_score(y_test, y_pred))\n",
        "score.append(r2_score(y_test, y_pred))"
      ],
      "execution_count": 222,
      "outputs": [
        {
          "output_type": "stream",
          "text": [
            "35.55544045900061\n",
            "0.7004795689889005\n"
          ],
          "name": "stdout"
        }
      ]
    },
    {
      "cell_type": "code",
      "metadata": {
        "id": "hV0nf3y5KEhg",
        "colab_type": "code",
        "colab": {
          "base_uri": "https://localhost:8080/",
          "height": 50
        },
        "outputId": "8a01e448-306e-430a-d690-1483ed3a5db8"
      },
      "source": [
        "print(MAE, \"\\n\", score)"
      ],
      "execution_count": 230,
      "outputs": [
        {
          "output_type": "stream",
          "text": [
            "[191.40254407051282, 136.97678696113542, 89.74572927483848, 35.86188890801666, 35.55544045900061] \n",
            " [0.061037613115869305, 0.41968907188090887, 0.6504293022290641, 0.6409615006888771, 0.7004795689889005]\n"
          ],
          "name": "stdout"
        }
      ]
    },
    {
      "cell_type": "markdown",
      "metadata": {
        "id": "k1bMtWjihah_",
        "colab_type": "text"
      },
      "source": [
        "**Plots and Analysis**"
      ]
    },
    {
      "cell_type": "code",
      "metadata": {
        "id": "kvGAyAGhekrE",
        "colab_type": "code",
        "colab": {
          "base_uri": "https://localhost:8080/",
          "height": 347
        },
        "outputId": "5faccaa6-427c-471c-c021-55957d5969ea"
      },
      "source": [
        "import matplotlib.pyplot as plt\n",
        "models = [\"Linear\", \"AdaBoost\",\"XGB\", \"Bagging\", \"ExtraTrees\"]\n",
        "plt.bar(models,score)\n",
        "plt.xticks(rotation = 45)\n",
        "plt.xlabel(\"regressor_models\")\n",
        "plt.ylabel(\"r2 scores\")\n",
        "plt.title(\"Model scores for prediction of occupancy of a platform at a time\")\n",
        "plt.show()\n",
        "plt.savefig(\"r2_scores\")"
      ],
      "execution_count": 223,
      "outputs": [
        {
          "output_type": "display_data",
          "data": {
            "image/png": "[encoded data removed]",
            "text/plain": [
              "<Figure size 432x288 with 1 Axes>"
            ]
          },
          "metadata": {
            "tags": [],
            "needs_background": "light"
          }
        },
        {
          "output_type": "display_data",
          "data": {
            "text/plain": [
              "<Figure size 432x288 with 0 Axes>"
            ]
          },
          "metadata": {
            "tags": []
          }
        }
      ]
    },
    {
      "cell_type": "code",
      "metadata": {
        "id": "VfwxLBDupVdI",
        "colab_type": "code",
        "colab": {
          "base_uri": "https://localhost:8080/",
          "height": 347
        },
        "outputId": "83ab5695-6a94-4351-e8cf-9fd87d8d1758"
      },
      "source": [
        "plt.bar(models,MAE)\n",
        "plt.xticks(rotation = 45)\n",
        "plt.xlabel(\"regressor_models\")\n",
        "plt.ylabel(\"Mean Absolute Error\")\n",
        "plt.title(\"MAE score for prediction of occupancy of a platform at a time\")\n",
        "plt.show()\n",
        "plt.savefig(\"MAE\")"
      ],
      "execution_count": 224,
      "outputs": [
        {
          "output_type": "display_data",
          "data": {
            "image/png": "[encoded data removed]",
            "text/plain": [
              "<Figure size 432x288 with 1 Axes>"
            ]
          },
          "metadata": {
            "tags": [],
            "needs_background": "light"
          }
        },
        {
          "output_type": "display_data",
          "data": {
            "text/plain": [
              "<Figure size 432x288 with 0 Axes>"
            ]
          },
          "metadata": {
            "tags": []
          }
        }
      ]
    }
  ]
}